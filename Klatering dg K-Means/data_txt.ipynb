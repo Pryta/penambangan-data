{
  "nbformat": 4,
  "nbformat_minor": 0,
  "metadata": {
    "colab": {
      "provenance": []
    },
    "kernelspec": {
      "name": "python3",
      "display_name": "Python 3"
    },
    "language_info": {
      "name": "python"
    }
  },
  "cells": [
    {
      "cell_type": "code",
      "execution_count": 11,
      "metadata": {
        "id": "c8ib17Nvul09"
      },
      "outputs": [],
      "source": [
        "#import library yang dibutuhkan\n",
        "import numpy as np\n",
        "import matplotlib.pyplot as plt\n",
        "import numpy as np\n",
        "from matplotlib.pyplot import cm\n",
        "import time\n",
        "import itertools\n",
        "\n",
        "#baca dataset dari file\n",
        "datasetPath = \"drive/MyDrive/Colab Notebooks/dataset.txt\"\n",
        "dataset = np.loadtxt(datasetPath, delimiter=\" \")\n",
        "\n",
        "#mendefinisikan parameter k-means klustering\n",
        "k = 2 #jumlah klaster yg diinginkan\n",
        "iterationCounter = 0 #counter untuk iterasi\n",
        "input = dataset #input data\n",
        "\n",
        "#fungsi untuk inisialisasi titik pusat klaster (random)\n",
        "def initCentroid(dataIn, k):\n",
        "    result = dataIn[np.random.choice(dataIn.shape[0], k, replace=False)]\n",
        "    return result"
      ]
    },
    {
      "cell_type": "code",
      "source": [
        "# Fungsi untuk plot hasil klaster per iterasi\n",
        "def plotClusterResult(listClusterMembers, centroid, iteration, converged):\n",
        "    n = listClusterMembers.__len__()\n",
        "    color = iter(cm.rainbow(np.linspace(0, 1, n)))\n",
        "    plt.figure(\"result\")\n",
        "    plt.clf()\n",
        "    plt.title(\"iteration-\" + iteration)\n",
        "\n",
        "    marker = itertools.cycle(('.', '*', '^', 'x', '+'))\n",
        "\n",
        "    for i in range(n):\n",
        "        col = next(color)\n",
        "        memberCluster = np.asmatrix(listClusterMembers[i])\n",
        "        plt.scatter(np.ravel(memberCluster[:, 0]),\n",
        "                    np.ravel(memberCluster[:, 1]),\n",
        "                    marker=marker.__next__(),\n",
        "                    s=100, c=col, label=\"klaster-\" + str(i + 1))\n",
        "\n",
        "    for i in range(n):\n",
        "        plt.scatter((centroid[i, 0]),\n",
        "                    (centroid[i, 1]),\n",
        "                    marker=marker.__next__(),\n",
        "                    s=200, c=col, label=\"centroid-\" + str(i + 1))\n",
        "\n",
        "    if converged == 0:\n",
        "        plt.legend()\n",
        "        plt.pause(0.1)\n",
        "    if converged == 1:\n",
        "        plt.legend()\n",
        "        plt.show(block=True)"
      ],
      "metadata": {
        "id": "sNzmaE3gu_5W"
      },
      "execution_count": 12,
      "outputs": []
    },
    {
      "cell_type": "code",
      "source": [
        "# Fungsi utama algoritma k-means\n",
        "def kMeans(data, centroidInit):\n",
        "    nCluster = k  # banyaknya klaster\n",
        "    global iterationCounter\n",
        "    centroidInit = np.matrix(centroidInit)\n",
        "\n",
        "    # Looping hingga konvergen\n",
        "    while(True):\n",
        "        iterationCounter += 1\n",
        "        euclideanMatrixAllCluster = np.ndarray(shape=(data.shape[0], 0))\n",
        "\n",
        "        # Ulangi proses untuk semua klaster\n",
        "        for i in range(0, nCluster):\n",
        "            centroidRepeated = np.repeat(centroidInit[i, :], data.shape[0], axis=0)\n",
        "            deltaMatrix = abs(np.subtract(data, centroidRepeated))\n",
        "\n",
        "            # Hitung jarak Euclidean\n",
        "            euclideanMatrix = np.sqrt(np.square(deltaMatrix).sum(axis=1))\n",
        "            euclideanMatrixAllCluster = \\\n",
        "                np.concatenate((euclideanMatrixAllCluster, euclideanMatrix), axis=1)\n",
        "\n",
        "        # Tempatkan data ke klaster yang jarak Euclideannya paling dekat\n",
        "        clusterMatrix = np.ravel(np.argmin(np.matrix(euclideanMatrixAllCluster), axis=1))\n",
        "        listClusterMember = [[] for i in range(k)]\n",
        "\n",
        "        for i in range(0, data.shape[0]):  # Assign data to cluster berdasarkan matriks klaster\n",
        "            listClusterMember[np.asscalar(clusterMatrix[i])].append(data[i, :])\n",
        "\n",
        "        # Hitung titik pusat klaster terbaru\n",
        "        newCentroid = np.ndarray(shape=(0, centroidInit.shape[1]))\n",
        "        for i in range(0, nCluster):\n",
        "            memberCluster = np.asmatrix(listClusterMember[i])\n",
        "            centroidCluster = memberCluster.mean(axis=0)\n",
        "            newCentroid = np.concatenate((newCentroid, centroidCluster), axis=0)\n",
        "\n",
        "        print(\"Iteration: \", iterationCounter)\n",
        "        print(\"Centroid: \", newCentroid)\n",
        "\n",
        "        # Break dari loop jika sudah konvergen\n",
        "        if((centroidInit == newCentroid).all()):\n",
        "            break\n",
        "\n",
        "        # Update titik pusat klaster dengan nilai yang baru\n",
        "        centroidInit = newCentroid\n",
        "\n",
        "        # Plot hasil klaster per iterasi\n",
        "        plotClusterResult(listClusterMember, centroidInit, str(iterationCounter), 0)\n",
        "        time.sleep(1)  # Diberi jeda 1 detik agar hasil plot klaster nyaman dilihat\n",
        "\n",
        "    return listClusterMember, centroidInit"
      ],
      "metadata": {
        "id": "NXbZKiiCv3xY"
      },
      "execution_count": 13,
      "outputs": []
    },
    {
      "cell_type": "code",
      "source": [
        "pip install --upgrade numpy"
      ],
      "metadata": {
        "colab": {
          "base_uri": "https://localhost:8080/"
        },
        "id": "XJ3XX2q8yFtP",
        "outputId": "d0f5a774-60f5-450e-c001-bb7a13b350b6"
      },
      "execution_count": 14,
      "outputs": [
        {
          "output_type": "stream",
          "name": "stdout",
          "text": [
            "Requirement already satisfied: numpy in /usr/local/lib/python3.10/dist-packages (2.2.1)\n"
          ]
        }
      ]
    },
    {
      "cell_type": "code",
      "source": [
        "#panggil fungsi inisialisasi klaster\n",
        "centroidInit = initCentroid(input, k)\n",
        "\n",
        "#panggil fungsi k-means\n",
        "clusterResults, centroid = kMeans(input, centroidInit)\n",
        "\n",
        "#plot hasil final klaster setelah konvergen\n",
        "plotClusterResult(clusterResults, centroid, str(iterationCounter) + \" (converged)\", 1)"
      ],
      "metadata": {
        "colab": {
          "base_uri": "https://localhost:8080/",
          "height": 371
        },
        "id": "yKkpPLk0wmup",
        "outputId": "1e55da82-994e-4516-f674-e65f9bfe8584"
      },
      "execution_count": 15,
      "outputs": [
        {
          "output_type": "error",
          "ename": "AttributeError",
          "evalue": "module 'numpy' has no attribute 'asscalar'",
          "traceback": [
            "\u001b[0;31m---------------------------------------------------------------------------\u001b[0m",
            "\u001b[0;31mAttributeError\u001b[0m                            Traceback (most recent call last)",
            "\u001b[0;32m<ipython-input-15-0e0472c1c825>\u001b[0m in \u001b[0;36m<cell line: 5>\u001b[0;34m()\u001b[0m\n\u001b[1;32m      3\u001b[0m \u001b[0;34m\u001b[0m\u001b[0m\n\u001b[1;32m      4\u001b[0m \u001b[0;31m#panggil fungsi k-means\u001b[0m\u001b[0;34m\u001b[0m\u001b[0;34m\u001b[0m\u001b[0m\n\u001b[0;32m----> 5\u001b[0;31m \u001b[0mclusterResults\u001b[0m\u001b[0;34m,\u001b[0m \u001b[0mcentroid\u001b[0m \u001b[0;34m=\u001b[0m \u001b[0mkMeans\u001b[0m\u001b[0;34m(\u001b[0m\u001b[0minput\u001b[0m\u001b[0;34m,\u001b[0m \u001b[0mcentroidInit\u001b[0m\u001b[0;34m)\u001b[0m\u001b[0;34m\u001b[0m\u001b[0;34m\u001b[0m\u001b[0m\n\u001b[0m\u001b[1;32m      6\u001b[0m \u001b[0;34m\u001b[0m\u001b[0m\n\u001b[1;32m      7\u001b[0m \u001b[0;31m#plot hasil final klaster setelah konvergen\u001b[0m\u001b[0;34m\u001b[0m\u001b[0;34m\u001b[0m\u001b[0m\n",
            "\u001b[0;32m<ipython-input-13-85005d3cce5e>\u001b[0m in \u001b[0;36mkMeans\u001b[0;34m(data, centroidInit)\u001b[0m\n\u001b[1;32m     25\u001b[0m \u001b[0;34m\u001b[0m\u001b[0m\n\u001b[1;32m     26\u001b[0m         \u001b[0;32mfor\u001b[0m \u001b[0mi\u001b[0m \u001b[0;32min\u001b[0m \u001b[0mrange\u001b[0m\u001b[0;34m(\u001b[0m\u001b[0;36m0\u001b[0m\u001b[0;34m,\u001b[0m \u001b[0mdata\u001b[0m\u001b[0;34m.\u001b[0m\u001b[0mshape\u001b[0m\u001b[0;34m[\u001b[0m\u001b[0;36m0\u001b[0m\u001b[0;34m]\u001b[0m\u001b[0;34m)\u001b[0m\u001b[0;34m:\u001b[0m  \u001b[0;31m# Assign data to cluster berdasarkan matriks klaster\u001b[0m\u001b[0;34m\u001b[0m\u001b[0;34m\u001b[0m\u001b[0m\n\u001b[0;32m---> 27\u001b[0;31m             \u001b[0mlistClusterMember\u001b[0m\u001b[0;34m[\u001b[0m\u001b[0mnp\u001b[0m\u001b[0;34m.\u001b[0m\u001b[0masscalar\u001b[0m\u001b[0;34m(\u001b[0m\u001b[0mclusterMatrix\u001b[0m\u001b[0;34m[\u001b[0m\u001b[0mi\u001b[0m\u001b[0;34m]\u001b[0m\u001b[0;34m)\u001b[0m\u001b[0;34m]\u001b[0m\u001b[0;34m.\u001b[0m\u001b[0mappend\u001b[0m\u001b[0;34m(\u001b[0m\u001b[0mdata\u001b[0m\u001b[0;34m[\u001b[0m\u001b[0mi\u001b[0m\u001b[0;34m,\u001b[0m \u001b[0;34m:\u001b[0m\u001b[0;34m]\u001b[0m\u001b[0;34m)\u001b[0m\u001b[0;34m\u001b[0m\u001b[0;34m\u001b[0m\u001b[0m\n\u001b[0m\u001b[1;32m     28\u001b[0m \u001b[0;34m\u001b[0m\u001b[0m\n\u001b[1;32m     29\u001b[0m         \u001b[0;31m# Hitung titik pusat klaster terbaru\u001b[0m\u001b[0;34m\u001b[0m\u001b[0;34m\u001b[0m\u001b[0m\n",
            "\u001b[0;32m/usr/local/lib/python3.10/dist-packages/numpy/__init__.py\u001b[0m in \u001b[0;36m__getattr__\u001b[0;34m(attr)\u001b[0m\n\u001b[1;32m    331\u001b[0m             \u001b[0;32mimport\u001b[0m \u001b[0mnumpy\u001b[0m\u001b[0;34m.\u001b[0m\u001b[0mlinalg\u001b[0m \u001b[0;32mas\u001b[0m \u001b[0mlinalg\u001b[0m\u001b[0;34m\u001b[0m\u001b[0;34m\u001b[0m\u001b[0m\n\u001b[1;32m    332\u001b[0m             \u001b[0;32mreturn\u001b[0m \u001b[0mlinalg\u001b[0m\u001b[0;34m\u001b[0m\u001b[0;34m\u001b[0m\u001b[0m\n\u001b[0;32m--> 333\u001b[0;31m         \u001b[0;32melif\u001b[0m \u001b[0mattr\u001b[0m \u001b[0;34m==\u001b[0m \u001b[0;34m\"fft\"\u001b[0m\u001b[0;34m:\u001b[0m\u001b[0;34m\u001b[0m\u001b[0;34m\u001b[0m\u001b[0m\n\u001b[0m\u001b[1;32m    334\u001b[0m             \u001b[0;32mimport\u001b[0m \u001b[0mnumpy\u001b[0m\u001b[0;34m.\u001b[0m\u001b[0mfft\u001b[0m \u001b[0;32mas\u001b[0m \u001b[0mfft\u001b[0m\u001b[0;34m\u001b[0m\u001b[0;34m\u001b[0m\u001b[0m\n\u001b[1;32m    335\u001b[0m             \u001b[0;32mreturn\u001b[0m \u001b[0mfft\u001b[0m\u001b[0;34m\u001b[0m\u001b[0;34m\u001b[0m\u001b[0m\n",
            "\u001b[0;31mAttributeError\u001b[0m: module 'numpy' has no attribute 'asscalar'"
          ]
        }
      ]
    },
    {
      "cell_type": "code",
      "source": [],
      "metadata": {
        "id": "16tZ0vK9ydKy"
      },
      "execution_count": null,
      "outputs": []
    }
  ]
}